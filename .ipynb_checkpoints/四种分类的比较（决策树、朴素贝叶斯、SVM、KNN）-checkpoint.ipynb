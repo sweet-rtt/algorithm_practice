{
 "cells": [
  {
   "cell_type": "code",
   "execution_count": 11,
   "metadata": {},
   "outputs": [
    {
     "name": "stdout",
     "output_type": "stream",
     "text": [
      "KNN分类准确率为：0.9756\n"
     ]
    }
   ],
   "source": [
    "# 加载数据集\n",
    "from sklearn.datasets import load_digits\n",
    "digits = load_digits()\n",
    "digits.keys()\n",
    "# dict_keys(['data', 'target', 'target_names', 'images', 'DESCR'])\n",
    "data = digits.data\n",
    "# 将数据分为训练集和测试集\n",
    "from sklearn.model_selection import train_test_split\n",
    "train_x, test_x, train_y, test_y = train_test_split(data, digits.target, test_size=0.25, random_state=33)\n",
    "\n",
    "# 采用Z-Score规范化\n",
    "from sklearn.preprocessing import StandardScaler\n",
    "ss = StandardScaler()\n",
    "train_ss_x = ss.fit_transform(train_x)\n",
    "test_ss_y = ss.transform(test_x)\n",
    "\n",
    "# 用KNN算法分类\n",
    "from sklearn.neighbors import KNeighborsClassifier\n",
    "knn = KNeighborsClassifier()\n",
    "knn.fit(train_ss_x, train_y)\n",
    "test_predict_knn = knn.predict(test_ss_x)\n",
    "# 模型评估\n",
    "from sklearn.metrics import accuracy_score\n",
    "print('KNN分类准确率为：%.4lf'% accuracy_score(test_y, test_predict_knn))\n"
   ]
  },
  {
   "cell_type": "code",
   "execution_count": 13,
   "metadata": {},
   "outputs": [
    {
     "name": "stdout",
     "output_type": "stream",
     "text": [
      "SVM分类准确率为：0.9867\n"
     ]
    }
   ],
   "source": [
    "# SVM分类算法\n",
    "from sklearn.svm import SVC\n",
    "svm = SVC()\n",
    "svm.fit(train_ss_x, train_y)\n",
    "test_predict_svm = svm.predict(test_ss_y)\n",
    "# 模型评估\n",
    "print('SVM分类准确率为：%.4lf'% accuracy_score(test_y, test_predict_svm))"
   ]
  },
  {
   "cell_type": "code",
   "execution_count": 15,
   "metadata": {},
   "outputs": [
    {
     "name": "stdout",
     "output_type": "stream",
     "text": [
      "Native_Bayes分类准确率为：0.8844\n"
     ]
    }
   ],
   "source": [
    "# 采用Min_Max规范化\n",
    "from sklearn.preprocessing import MinMaxScaler\n",
    "mm = preprocessing.MinMaxScaler()\n",
    "train_mm_x = mm.fit_transform(train_x)\n",
    "test_mm_x = mm.transform(test_x)\n",
    "# Native Byes分类器\n",
    "from sklearn.naive_bayes import MultinomialNB\n",
    "mnb = MultinomialNB()\n",
    "mnb.fit(train_mm_x, train_y)\n",
    "test_predict_mnb = mnb.predict(test_mm_x)\n",
    "print('Native_Bayes分类准确率为：%.4lf'% accuracy_score(test_y, test_predict_mnb))"
   ]
  },
  {
   "cell_type": "code",
   "execution_count": 17,
   "metadata": {},
   "outputs": [
    {
     "name": "stdout",
     "output_type": "stream",
     "text": [
      "CART决策树分类准确率为：0.8511\n"
     ]
    }
   ],
   "source": [
    "# CART决策树\n",
    "from sklearn.tree import DecisionTreeClassifier\n",
    "clf = DecisionTreeClassifier()\n",
    "clf.fit(train_mm_x, train_y)\n",
    "test_predict_clf = clf.predict(test_mm_x)\n",
    "print('CART决策树分类准确率为：%.4lf'% accuracy_score(test_y, test_predict_clf))"
   ]
  },
  {
   "cell_type": "code",
   "execution_count": null,
   "metadata": {},
   "outputs": [],
   "source": []
  }
 ],
 "metadata": {
  "kernelspec": {
   "display_name": "Python 3",
   "language": "python",
   "name": "python3"
  },
  "language_info": {
   "codemirror_mode": {
    "name": "ipython",
    "version": 3
   },
   "file_extension": ".py",
   "mimetype": "text/x-python",
   "name": "python",
   "nbconvert_exporter": "python",
   "pygments_lexer": "ipython3",
   "version": "3.7.0"
  }
 },
 "nbformat": 4,
 "nbformat_minor": 2
}
